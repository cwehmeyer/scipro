{
 "cells": [
  {
   "cell_type": "markdown",
   "metadata": {},
   "source": [
    "# Notebook 07: Mini Projects\n",
    "\n",
    "## Content\n",
    "- Linear problems\n",
    "- Monte Carlo sampling\n",
    "\n",
    "## Remember jupyter notebooks\n",
    "- To run the currently highlighted cell, hold <kbd>&#x21E7; Shift</kbd> and press <kbd>&#x23ce; Enter</kbd>.\n",
    "- To get help for a specific function, place the cursor within the function's brackets, hold <kbd>&#x21E7; Shift</kbd>, and press <kbd>&#x21E5; Tab</kbd>."
   ]
  },
  {
   "cell_type": "code",
   "execution_count": null,
   "metadata": {},
   "outputs": [],
   "source": [
    "%matplotlib inline\n",
    "import matplotlib.pyplot as plt\n",
    "import numpy as np"
   ]
  },
  {
   "cell_type": "markdown",
   "metadata": {},
   "source": [
    "## Linear problems\n",
    "We want to solve\n",
    "\n",
    "$$\\mathbf{A}\\mathbf{x}=\\mathbf{b}$$\n",
    "\n",
    "where $\\mathbf{A}\\in\\mathbb{R}^{N \\times N}$ and $\\mathbf{x},\\mathbf{b}\\in\\mathbb{R}^N$ using `numpy`.\n",
    "\n",
    "**Task**: create a matrix `A` and a matching vector `x` randomly, and compute the RHS `b` using the `np.dot(A, x)` function. Then, use `np.linalg.solve()` on `A` and `b` to recover `x_rec`. Use `np.linalg.norm()` to compute the distance between `x` and `x_rec`.\n",
    "\n",
    "**Hint**: look up the docstrings (<kbd>&#x21E7;</kbd>+<kbd>&#x21E5;</kbd> with cursor inside function brackets) to learn more about the functions you dont know."
   ]
  },
  {
   "cell_type": "code",
   "execution_count": null,
   "metadata": {},
   "outputs": [],
   "source": []
  },
  {
   "cell_type": "markdown",
   "metadata": {},
   "source": [
    "## Monte Carlo sampling\n",
    "We can use a random sampling strategy to estimate the value of $\\pi$.\n",
    "\n",
    "Draw $N$ random tuples $(x,y)$ uniformly distributed inside the unit square $[0, 1]^2$. For each tuple compute the distance from $(0,0)$. Count the number tuples whose distance is smaller than $1$ ($N_\\textrm{hit}$) and divide this number by the total amount of tuples ($N$). You can approximate\n",
    "\n",
    "$$\\pi \\approx \\frac{4 N_\\textrm{hit}}{N}.$$\n",
    "\n",
    "How does the MC-sampled estimate converge with $N$?"
   ]
  },
  {
   "cell_type": "code",
   "execution_count": null,
   "metadata": {},
   "outputs": [],
   "source": []
  }
 ],
 "metadata": {
  "kernelspec": {
   "display_name": "Python 3",
   "language": "python",
   "name": "python3"
  },
  "language_info": {
   "codemirror_mode": {
    "name": "ipython",
    "version": 3
   },
   "file_extension": ".py",
   "mimetype": "text/x-python",
   "name": "python",
   "nbconvert_exporter": "python",
   "pygments_lexer": "ipython3",
   "version": "3.6.5"
  },
  "toc": {
   "base_numbering": 1,
   "nav_menu": {},
   "number_sections": false,
   "sideBar": true,
   "skip_h1_title": false,
   "title_cell": "Table of Contents",
   "title_sidebar": "Contents",
   "toc_cell": false,
   "toc_position": {},
   "toc_section_display": true,
   "toc_window_display": false
  }
 },
 "nbformat": 4,
 "nbformat_minor": 2
}
