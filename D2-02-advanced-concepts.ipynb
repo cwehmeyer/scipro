{
 "cells": [
  {
   "cell_type": "markdown",
   "metadata": {},
   "source": [
    "# D2 - 02 - Advanced concepts\n",
    "\n",
    "## Content\n",
    "- Object-oriented programming (OOP)\n",
    "- the `lambda` command (anonymous functions)\n",
    "- iterators and generators\n",
    "\n",
    "## Remember jupyter notebooks\n",
    "- To run the currently highlighted cell, hold <kbd>&#x21E7; Shift</kbd> and press <kbd>&#x23ce; Enter</kbd>.\n",
    "- To get help for a specific function, place the cursor within the function's brackets, hold <kbd>&#x21E7; Shift</kbd>, and press <kbd>&#x21E5; Tab</kbd>."
   ]
  },
  {
   "cell_type": "code",
   "execution_count": null,
   "metadata": {},
   "outputs": [],
   "source": [
    "%matplotlib inline\n",
    "import matplotlib.pyplot as plt\n",
    "import numpy as np"
   ]
  },
  {
   "cell_type": "markdown",
   "metadata": {},
   "source": [
    "## Object-oriented programming\n",
    "A `class` is a blueprint for a container like data structure containing variables (**attributes**) and functions (**methods**). An `object` is an actual instance of a `class`.\n",
    "\n",
    "**Example**: let's build a rotation matrix."
   ]
  },
  {
   "cell_type": "code",
   "execution_count": null,
   "metadata": {},
   "outputs": [],
   "source": [
    "class RotationMatrix(object):\n",
    "    def __init__(self, angle):\n",
    "        self.angle = angle % 360\n",
    "\n",
    "rotation = RotationMatrix(90)\n",
    "print(rotation)"
   ]
  },
  {
   "cell_type": "code",
   "execution_count": null,
   "metadata": {},
   "outputs": [],
   "source": [
    "class RotationMatrix(object):\n",
    "    def __init__(self, angle):\n",
    "        self.angle = angle % 360\n",
    "    def __repr__(self):\n",
    "        return 'Rotation by %.2f°' % self.angle\n",
    "\n",
    "rotation = RotationMatrix(90)\n",
    "print(rotation)"
   ]
  },
  {
   "cell_type": "code",
   "execution_count": null,
   "metadata": {},
   "outputs": [],
   "source": [
    "rotation2 = RotationMatrix(-90)\n",
    "print(rotation2)"
   ]
  },
  {
   "cell_type": "code",
   "execution_count": null,
   "metadata": {},
   "outputs": [],
   "source": [
    "rotation * rotation2"
   ]
  },
  {
   "cell_type": "code",
   "execution_count": null,
   "metadata": {},
   "outputs": [],
   "source": [
    "class RotationMatrix(object):\n",
    "    def __init__(self, angle):\n",
    "        self.angle = angle % 360\n",
    "    def __repr__(self):\n",
    "        return 'Rotation by %.2f°' % self.angle\n",
    "    def __mul__(self, other):\n",
    "        return RotationMatrix(self.angle + other.angle)\n",
    "\n",
    "rotation = RotationMatrix(90)\n",
    "print(rotation)\n",
    "\n",
    "rotation2 = RotationMatrix(-90)\n",
    "print(rotation2)\n",
    "\n",
    "print(rotation * rotation2)"
   ]
  },
  {
   "cell_type": "code",
   "execution_count": null,
   "metadata": {},
   "outputs": [],
   "source": [
    "class RotationMatrix(object):\n",
    "    def __init__(self, angle):\n",
    "        self.angle = angle % 360\n",
    "        self.rad = np.pi * self.angle / 180\n",
    "        self.rotation_matrix = np.asarray([\n",
    "            [np.cos(self.rad), -np.sin(self.rad)],\n",
    "            [np.sin(self.rad), np.cos(self.rad)]])\n",
    "    def __repr__(self):\n",
    "        return 'Rotation by %.2f°' % self.angle\n",
    "    def __mul__(self, other):\n",
    "        return RotationMatrix(self.angle + other.angle)\n",
    "    def rotate(self, vector):\n",
    "        return np.dot(self.rotation_matrix, np.asarray(vector))\n",
    "\n",
    "rotation = RotationMatrix(90)\n",
    "print(rotation.rotate([1, 0]))"
   ]
  },
  {
   "cell_type": "markdown",
   "metadata": {},
   "source": [
    "## The `lambda ` command\n",
    "Python provides a mechanism to make anonymous functions. But frist, let's remember how to use a references to functions:"
   ]
  },
  {
   "cell_type": "code",
   "execution_count": null,
   "metadata": {},
   "outputs": [],
   "source": [
    "def func(x):\n",
    "    print('func here: ', x)\n",
    "\n",
    "func([0, 1, 2])"
   ]
  },
  {
   "cell_type": "code",
   "execution_count": null,
   "metadata": {},
   "outputs": [],
   "source": [
    "func_alias = func\n",
    "\n",
    "func_alias([3, 4, 5])"
   ]
  },
  {
   "cell_type": "markdown",
   "metadata": {},
   "source": [
    "We can create variables which are pointing to functions. With `lambda` we can create a function without a name and let some variable point to it:"
   ]
  },
  {
   "cell_type": "code",
   "execution_count": null,
   "metadata": {},
   "outputs": [],
   "source": [
    "anonymous_func = lambda x: print('lambda here:', x)\n",
    "\n",
    "anonymous_func([6, 7, 8])"
   ]
  },
  {
   "cell_type": "markdown",
   "metadata": {},
   "source": [
    "The pattern is like this:\n",
    "\n",
    "```Python\n",
    "lambda variable: transform(variable)\n",
    "```\n",
    "\n",
    "Let's combine this with OOP and create a class for composing mathematical functions:"
   ]
  },
  {
   "cell_type": "code",
   "execution_count": null,
   "metadata": {},
   "outputs": [],
   "source": [
    "class Function(object):\n",
    "    def __init__(self, expression):\n",
    "        self.expression = expression\n",
    "\n",
    "f = Function(lambda x: x**2)\n",
    "\n",
    "x = np.linspace(-2, 2, 100)\n",
    "plt.plot(x, f.expression(x))"
   ]
  },
  {
   "cell_type": "code",
   "execution_count": null,
   "metadata": {},
   "outputs": [],
   "source": [
    "class Function(object):\n",
    "    def __init__(self, expression):\n",
    "        self.expression = expression\n",
    "    def __call__(self, x):\n",
    "        return self.expression(x)\n",
    "\n",
    "f = Function(lambda x: x**2)\n",
    "\n",
    "plt.plot(x, f(x))"
   ]
  },
  {
   "cell_type": "code",
   "execution_count": null,
   "metadata": {},
   "outputs": [],
   "source": [
    "class Function(object):\n",
    "    def __init__(self, expression):\n",
    "        self.expression = expression\n",
    "    def __call__(self, x):\n",
    "        return self.expression(x)\n",
    "    def __or__(self, other):\n",
    "        return Function(lambda x: other(self(x)))\n",
    "\n",
    "f = Function(lambda x: x**2)\n",
    "g = Function(lambda x: np.exp(-x))\n",
    "\n",
    "h = f | g\n",
    "\n",
    "plt.plot(x, h(x))"
   ]
  },
  {
   "cell_type": "code",
   "execution_count": null,
   "metadata": {},
   "outputs": [],
   "source": [
    "class Function(object):\n",
    "    def __init__(self, expression):\n",
    "        self.expression = expression\n",
    "    def __call__(self, x):\n",
    "        return self.expression(x)\n",
    "    def __or__(self, other):\n",
    "        return Function(lambda x: other(self(x)))\n",
    "    def derivative(self, x, dx=0.01):\n",
    "        dy = self(x + 0.5 * dx) - self(x - 0.5 * dx)\n",
    "        return dy / dx\n",
    "\n",
    "f = Function(lambda x: x**2)\n",
    "g = Function(lambda x: np.exp(-x))\n",
    "\n",
    "h = f | g\n",
    "\n",
    "plt.plot(x, h(x), label='$f \\circ g$')\n",
    "plt.plot(x, h.derivative(x), label='$(f \\circ g)^\\prime$')\n",
    "plt.legend(fontsize=15)"
   ]
  },
  {
   "cell_type": "markdown",
   "metadata": {},
   "source": [
    "## Iterators and generators\n",
    "We revisit the Fibonacci problem and reformulate the solution using an `iterator`:"
   ]
  },
  {
   "cell_type": "code",
   "execution_count": null,
   "metadata": {},
   "outputs": [],
   "source": [
    "class Fibonacci(object):\n",
    "    def __init__(self, stop):\n",
    "        self.stop = stop\n",
    "        self.a, self.b = 1, 1\n",
    "    def __iter__(self):\n",
    "        return self\n",
    "    def __next__(self):\n",
    "        self.a, self.b = self.a + self.b, self.a\n",
    "        if self.a < self.stop:\n",
    "            return self.a\n",
    "        raise StopIteration\n",
    "\n",
    "fib = Fibonacci(100)\n",
    "print(fib)"
   ]
  },
  {
   "cell_type": "code",
   "execution_count": null,
   "metadata": {},
   "outputs": [],
   "source": [
    "for value in fib:\n",
    "    print(value)"
   ]
  },
  {
   "cell_type": "code",
   "execution_count": null,
   "metadata": {},
   "outputs": [],
   "source": [
    "print(list(Fibonacci(100)))"
   ]
  },
  {
   "cell_type": "code",
   "execution_count": null,
   "metadata": {},
   "outputs": [],
   "source": [
    "fib = Fibonacci(100)\n",
    "for i in range(10):\n",
    "    print(i, next(fib))"
   ]
  },
  {
   "cell_type": "markdown",
   "metadata": {},
   "source": [
    "Hence, an `iterator` is a `class` which has the methods `__iter__()` and `__next__()`.\n",
    "\n",
    "A `generator` behaves very similar but does not require to write a `class`. The key component here is the `yield` command:"
   ]
  },
  {
   "cell_type": "code",
   "execution_count": null,
   "metadata": {},
   "outputs": [],
   "source": [
    "def fibonacci(stop):\n",
    "    a, b = 1, 1\n",
    "    while True:\n",
    "        a, b = a + b, a\n",
    "        if a < stop:\n",
    "            yield a\n",
    "        else:\n",
    "            break\n",
    "\n",
    "print(fibonacci(100))"
   ]
  },
  {
   "cell_type": "code",
   "execution_count": null,
   "metadata": {},
   "outputs": [],
   "source": [
    "for value in fibonacci(100):\n",
    "    print(value)"
   ]
  },
  {
   "cell_type": "code",
   "execution_count": null,
   "metadata": {},
   "outputs": [],
   "source": [
    "print(list(fibonacci(100)))"
   ]
  },
  {
   "cell_type": "code",
   "execution_count": null,
   "metadata": {},
   "outputs": [],
   "source": [
    "fib = fibonacci(100)\n",
    "for i in range(10):\n",
    "    print(i, next(fib))"
   ]
  },
  {
   "cell_type": "code",
   "execution_count": null,
   "metadata": {},
   "outputs": [],
   "source": []
  }
 ],
 "metadata": {
  "kernelspec": {
   "display_name": "Python 3",
   "language": "python",
   "name": "python3"
  },
  "language_info": {
   "codemirror_mode": {
    "name": "ipython",
    "version": 3
   },
   "file_extension": ".py",
   "mimetype": "text/x-python",
   "name": "python",
   "nbconvert_exporter": "python",
   "pygments_lexer": "ipython3",
   "version": "3.6.4"
  }
 },
 "nbformat": 4,
 "nbformat_minor": 2
}
