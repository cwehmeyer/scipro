{
 "cells": [
  {
   "cell_type": "markdown",
   "metadata": {},
   "source": [
    "# D1 - 02 - Flow Control and Functions\n",
    "\n",
    "## Content\n",
    "- What are conditional expressions?\n",
    "- What are loops?\n",
    "- How can I write functions?\n",
    "- How to use list comprehensions?\n",
    "\n",
    "## Remember jupyter notebooks\n",
    "- To run the currently highlighted cell, hold <kbd>&#x21E7; Shift</kbd> and press <kbd>&#x23ce; Enter</kbd>.\n",
    "- To get help for a specific function, place the cursor within the function's brackets, hold <kbd>&#x21E7; Shift</kbd>, and press <kbd>&#x21E5; Tab</kbd>.\n",
    "\n",
    "## Comparision operations\n",
    "We can use `==` to check whether two objects are equal or `!=` whether the are unequal:"
   ]
  },
  {
   "cell_type": "code",
   "execution_count": null,
   "metadata": {},
   "outputs": [],
   "source": [
    "print(1 == 1)\n",
    "print(1 != 1)"
   ]
  },
  {
   "cell_type": "markdown",
   "metadata": {},
   "source": [
    "Similar, we can check whether a variable is greater or smaller than another variable or value:"
   ]
  },
  {
   "cell_type": "code",
   "execution_count": null,
   "metadata": {},
   "outputs": [],
   "source": [
    "a = 1\n",
    "print(a > 0)\n",
    "print(a < 0)"
   ]
  },
  {
   "cell_type": "markdown",
   "metadata": {},
   "source": [
    "And we can check greater/equal or smaller/equal:"
   ]
  },
  {
   "cell_type": "code",
   "execution_count": null,
   "metadata": {},
   "outputs": [],
   "source": [
    "print(a >= 0)\n",
    "print(a <= 0)"
   ]
  },
  {
   "cell_type": "markdown",
   "metadata": {},
   "source": [
    "Multiple comparisions can by chained together or modified with the boolean operators `and`, `or`, and `not`:"
   ]
  },
  {
   "cell_type": "code",
   "execution_count": null,
   "metadata": {},
   "outputs": [],
   "source": [
    "print(0 < a and a < 2)\n",
    "print(0 < a or 0 > a)\n",
    "print(not 0 < a)"
   ]
  },
  {
   "cell_type": "markdown",
   "metadata": {},
   "source": [
    "Python even allows to write multiple comparisions in this compact manner:"
   ]
  },
  {
   "cell_type": "code",
   "execution_count": null,
   "metadata": {},
   "outputs": [],
   "source": [
    "print(0 < a < 2)"
   ]
  },
  {
   "cell_type": "markdown",
   "metadata": {},
   "source": [
    "Two variables can have equal values but still be different objects. To check whether two variables/references point to the same object, we can use the `is` operator:"
   ]
  },
  {
   "cell_type": "code",
   "execution_count": null,
   "metadata": {},
   "outputs": [],
   "source": [
    "print(a is 1)\n",
    "print(a is not 1)"
   ]
  },
  {
   "cell_type": "code",
   "execution_count": null,
   "metadata": {},
   "outputs": [],
   "source": [
    "a = [1]\n",
    "b = a\n",
    "print(a == b, a is b)"
   ]
  },
  {
   "cell_type": "code",
   "execution_count": null,
   "metadata": {},
   "outputs": [],
   "source": [
    "a = [1]\n",
    "b = [1]\n",
    "print(a == b, a is b)"
   ]
  },
  {
   "cell_type": "markdown",
   "metadata": {},
   "source": [
    "## Conditional expressions\n",
    "With comparision operations available, we can make our code behave differently depending on the current situation. With the `if` statement, we can write make the execution of a piece of code conditional:"
   ]
  },
  {
   "cell_type": "code",
   "execution_count": null,
   "metadata": {},
   "outputs": [],
   "source": [
    "if True:\n",
    "    print('The first condition is true')\n",
    "\n",
    "if False:\n",
    "    print('Thes second is not')"
   ]
  },
  {
   "cell_type": "markdown",
   "metadata": {},
   "source": [
    "We have three new concepts in the above cell:\n",
    "1. The `if` statement is followed by some condition.\n",
    "1. `True` and `False` are two `constants` indicating a logical true or false.\n",
    "1. Python groups code blocks by indention! The indented code after the `if` statement is only run if the condition is true.\n",
    "\n",
    "Here is another example:"
   ]
  },
  {
   "cell_type": "code",
   "execution_count": null,
   "metadata": {},
   "outputs": [],
   "source": [
    "a = [0, 1, 2, 3, 4]\n",
    "\n",
    "if len(a) < 3:\n",
    "    print('a has less than 3 elements')\n",
    "else:\n",
    "    print('a has three or more elements')"
   ]
  },
  {
   "cell_type": "markdown",
   "metadata": {},
   "source": [
    "Here, we have added a default recation to the `if` statement. If the condition is false, the first code block is not executed. In this case, the second block will run.\n",
    "\n",
    "Another example:"
   ]
  },
  {
   "cell_type": "code",
   "execution_count": null,
   "metadata": {},
   "outputs": [],
   "source": [
    "a = [0, 1, 2, 3, 4]\n",
    "\n",
    "if len(a) < 3:\n",
    "    print('a has less than 3 elements')\n",
    "elif len(a) > 3:\n",
    "    print('a has more than 3 elements')\n",
    "else:\n",
    "    print('a has 3 elements')"
   ]
  },
  {
   "cell_type": "markdown",
   "metadata": {},
   "source": [
    "We have now added a second condition check to our `if` statement: if the first condition is false, the second condition is checked. Only if all explicitly given conditions are false, the default block is executed.\n",
    "\n",
    "You can chain an arbitrary number of conditions in an `if` statement:"
   ]
  },
  {
   "cell_type": "code",
   "execution_count": null,
   "metadata": {},
   "outputs": [],
   "source": [
    "a = 5\n",
    "\n",
    "if a == 0:\n",
    "    print(0)\n",
    "elif a == 1:\n",
    "    print(1)\n",
    "elif a == 2:\n",
    "    print(2)\n",
    "elif a == 3:\n",
    "    print(3)\n",
    "elif a == 4:\n",
    "    print(4)\n",
    "elif a == 5:\n",
    "    print(5)\n",
    "elif a == 6:\n",
    "    print(6)\n",
    "elif a == 7:\n",
    "    print(7)\n",
    "else:\n",
    "    print('>7')"
   ]
  },
  {
   "cell_type": "markdown",
   "metadata": {},
   "source": [
    "This works but is terribly inefficient! To save coding effort on this repetitive task, we can use a construct called loop...\n",
    "\n",
    "## Loops\n",
    "We can tell Python to repeat a code block for each element in a given sequence. This is called a `for` loop:"
   ]
  },
  {
   "cell_type": "code",
   "execution_count": null,
   "metadata": {},
   "outputs": [],
   "source": [
    "for value in range(5):\n",
    "    print(value)"
   ]
  },
  {
   "cell_type": "markdown",
   "metadata": {},
   "source": [
    "The inefficient `if` statement can now be written as:"
   ]
  },
  {
   "cell_type": "code",
   "execution_count": null,
   "metadata": {},
   "outputs": [],
   "source": [
    "a = 73\n",
    "\n",
    "for value in range(10000):\n",
    "    if a == value:\n",
    "        print(value)"
   ]
  },
  {
   "cell_type": "markdown",
   "metadata": {},
   "source": [
    "This is still a very bad solution but much more easy to write than the first variant.\n",
    "\n",
    "A `for` loop iterates over a given sequence and performs the defined task for each element. This could be a `range` of `int`s as shown above or values stored in a `list`, `tuple` or `set`:"
   ]
  },
  {
   "cell_type": "code",
   "execution_count": null,
   "metadata": {},
   "outputs": [],
   "source": [
    "for value in ['one', 'two', 'three']:\n",
    "    print(value)"
   ]
  },
  {
   "cell_type": "code",
   "execution_count": null,
   "metadata": {},
   "outputs": [],
   "source": [
    "for value in ({0, 1, 2}, 'This is a string', dict(soime_key='some_value')):\n",
    "    print(value, type(value))"
   ]
  },
  {
   "cell_type": "code",
   "execution_count": null,
   "metadata": {},
   "outputs": [],
   "source": [
    "for value in {'one', 2, 'three', 4}:\n",
    "    print(value)"
   ]
  },
  {
   "cell_type": "markdown",
   "metadata": {},
   "source": [
    "#### Exercise\n",
    "What happens if you iterate over a `dict`?"
   ]
  },
  {
   "cell_type": "code",
   "execution_count": null,
   "metadata": {},
   "outputs": [],
   "source": []
  },
  {
   "cell_type": "markdown",
   "metadata": {},
   "source": [
    "There are some useful modifiers for `for` loops. `reversed()` reverses the order of the `list` or `tuple`:"
   ]
  },
  {
   "cell_type": "code",
   "execution_count": null,
   "metadata": {},
   "outputs": [],
   "source": [
    "for value in reversed(range(5)):\n",
    "    print(value)"
   ]
  },
  {
   "cell_type": "markdown",
   "metadata": {},
   "source": [
    "`enumerate` gives you the index along with the value:"
   ]
  },
  {
   "cell_type": "code",
   "execution_count": null,
   "metadata": {},
   "outputs": [],
   "source": [
    "for index, value in enumerate(['one', 'two', 'three', 'four']):\n",
    "    print(index, value)"
   ]
  },
  {
   "cell_type": "markdown",
   "metadata": {},
   "source": [
    "`zip` allows you to iterate over two sequences simulatenously:"
   ]
  },
  {
   "cell_type": "code",
   "execution_count": null,
   "metadata": {},
   "outputs": [],
   "source": [
    "for value1, value2 in zip(['one', 'two', 'three'], ('ball', 'people', 'hours of fun')):\n",
    "    print(value1, value2)"
   ]
  },
  {
   "cell_type": "markdown",
   "metadata": {},
   "source": [
    "#### Exercise\n",
    "You can even chain these modifiers. Here is an example:\n",
    "\n",
    "```Python\n",
    "for index, (value1, value2) in enumerate(zip(['one', 'two'], ('ball', 'people'))):\n",
    "    print(index, value1, value2)\n",
    "```\n",
    "\n",
    "Now try it out for yourself:"
   ]
  },
  {
   "cell_type": "code",
   "execution_count": null,
   "metadata": {},
   "outputs": [],
   "source": []
  },
  {
   "cell_type": "markdown",
   "metadata": {},
   "source": [
    "If we do not know the sequence to iterate over but have a condition to decide whether to run or stop, we can use a `while` loop:"
   ]
  },
  {
   "cell_type": "code",
   "execution_count": null,
   "metadata": {},
   "outputs": [],
   "source": [
    "a = 0\n",
    "while a < 5:\n",
    "    print(a)\n",
    "    a += 1"
   ]
  },
  {
   "cell_type": "markdown",
   "metadata": {},
   "source": [
    "Let's use that to compute a mathematical sequence: the Fibonacci numbers\n",
    "$$f_i = f_{i-1} + f_{i-2},\\quad i\\geq2,\\, f_0=f_1=1$$\n",
    "\n",
    "We list all Fibonacci numbers greater than $1$ and smaller than $100$:"
   ]
  },
  {
   "cell_type": "code",
   "execution_count": null,
   "metadata": {},
   "outputs": [],
   "source": [
    "a, b = 1, 1\n",
    "while True:\n",
    "    a, b = a + b, a\n",
    "    if a < 100:\n",
    "        print(a)\n",
    "    else:\n",
    "        break"
   ]
  },
  {
   "cell_type": "markdown",
   "metadata": {},
   "source": [
    "Here, we have used a condition for the `while` loop which is always true and use an `if` statement within the loop's body to `break` the flow.\n",
    "\n",
    "The `break` command also works with a `for` loop and terminates the whole iteration immediately once encountered. Another useful command is `continue`: once encountered the rest of the loop's body is skipped and the loop enters the next step in the iteration."
   ]
  },
  {
   "cell_type": "code",
   "execution_count": null,
   "metadata": {},
   "outputs": [],
   "source": [
    "for value in range(100):\n",
    "    if value < 70:\n",
    "        continue\n",
    "    print(value)\n",
    "    if value > 75:\n",
    "        break"
   ]
  },
  {
   "cell_type": "markdown",
   "metadata": {},
   "source": [
    "## Functions\n",
    "We already have used a number builtin functions: `print()`, `type()`, `id()`, `list()`, `set()`, `tuple()`, `range()`, `sorted()`, `dict()`, `len()`, `reversed()`, `enumerate()`, and `zip()`. A function is a piece of code which is executed wherever the name of the function is used.\n",
    "\n",
    "To write your own function, we need the `def` command:"
   ]
  },
  {
   "cell_type": "code",
   "execution_count": null,
   "metadata": {},
   "outputs": [],
   "source": [
    "def function1():\n",
    "    print('function1 was called')"
   ]
  },
  {
   "cell_type": "code",
   "execution_count": null,
   "metadata": {},
   "outputs": [],
   "source": [
    "function1()"
   ]
  },
  {
   "cell_type": "markdown",
   "metadata": {},
   "source": [
    "A function may depend on one or more parameters (variables); this needs to be specified in the function's definition:"
   ]
  },
  {
   "cell_type": "code",
   "execution_count": null,
   "metadata": {},
   "outputs": [],
   "source": [
    "def function2(value):\n",
    "    print('function2 was called with parameter ' + str(value))\n",
    "\n",
    "function2(1)\n",
    "function2([0, 1, 2])"
   ]
  },
  {
   "cell_type": "markdown",
   "metadata": {},
   "source": [
    "A remark on namespaces: function parameters or variables defined within a function's body are local to the function:"
   ]
  },
  {
   "cell_type": "code",
   "execution_count": null,
   "metadata": {},
   "outputs": [],
   "source": [
    "a, b = 1, 2\n",
    "def function3(a):\n",
    "    b = 8\n",
    "    print(a, b)\n",
    "\n",
    "function3(7)\n",
    "print(a, b)"
   ]
  },
  {
   "cell_type": "markdown",
   "metadata": {},
   "source": [
    "If we **reference** a variable which is not defined within the function's body, it is assumed to be a global variable:"
   ]
  },
  {
   "cell_type": "code",
   "execution_count": null,
   "metadata": {},
   "outputs": [],
   "source": [
    "global_variable = 'This is global'\n",
    "def function4(parameter):\n",
    "    print(parameter)\n",
    "    print(global_variable)\n",
    "\n",
    "function4('This is local')"
   ]
  },
  {
   "cell_type": "code",
   "execution_count": null,
   "metadata": {},
   "outputs": [],
   "source": [
    "def polynomial(x):\n",
    "    return 2.0 * x**3 - 3.0 * x**2 + 1"
   ]
  },
  {
   "cell_type": "markdown",
   "metadata": {},
   "source": [
    "Here is an example of a function which takes a sequence and returns a list where every element is squared:"
   ]
  },
  {
   "cell_type": "code",
   "execution_count": null,
   "metadata": {},
   "outputs": [],
   "source": [
    "def square(a):\n",
    "    b = []\n",
    "    for value in a:\n",
    "        b.append(value**2)\n",
    "    return b\n",
    "\n",
    "print(square(range(1, 11)))"
   ]
  },
  {
   "cell_type": "markdown",
   "metadata": {},
   "source": [
    "#### Exercise\n",
    "Implement the polynomial\n",
    "$$p(x) = 2x^3 - 3x^2 + 1$$\n",
    "by completing the following stub:"
   ]
  },
  {
   "cell_type": "code",
   "execution_count": null,
   "metadata": {},
   "outputs": [],
   "source": [
    "def polynomial(x):\n",
    "    result = None\n",
    "    return result\n",
    "\n",
    "print(polynomial(0), polynomial(0.5), polynomial(1))"
   ]
  },
  {
   "cell_type": "markdown",
   "metadata": {},
   "source": [
    "## List comprehensions\n",
    "List comprehensions represent a concise and efficient way of creating lists, where each element can be defined in terms of a simpler sequence and/or conditions. For example, a list with the square numbers from $1$ to $100$ can be constructed as:"
   ]
  },
  {
   "cell_type": "code",
   "execution_count": null,
   "metadata": {},
   "outputs": [],
   "source": [
    "print([value**2 for value in range(1, 11)])"
   ]
  },
  {
   "cell_type": "markdown",
   "metadata": {},
   "source": [
    "The pattern is\n",
    "```Python\n",
    "[transformation(x) for x in sequence_of_x]\n",
    "```\n",
    "\n",
    "This can further be combined with one or more conditions such that only `x` values for which the condition is true go into the `list`. As an example, let's use only even squares between $1$ and $100$:"
   ]
  },
  {
   "cell_type": "code",
   "execution_count": null,
   "metadata": {},
   "outputs": [],
   "source": [
    "print([value**2 for value in range(1, 11) if value % 2 == 0])"
   ]
  },
  {
   "cell_type": "markdown",
   "metadata": {},
   "source": [
    "#### Exercise\n",
    "Can you do a `tuple` or `set` comprehension?"
   ]
  },
  {
   "cell_type": "code",
   "execution_count": null,
   "metadata": {},
   "outputs": [],
   "source": []
  },
  {
   "cell_type": "markdown",
   "metadata": {},
   "source": [
    "Example: `dict` comprehension"
   ]
  },
  {
   "cell_type": "code",
   "execution_count": null,
   "metadata": {},
   "outputs": [],
   "source": [
    "print({x: x**2 for x in range(1, 10)})"
   ]
  },
  {
   "cell_type": "markdown",
   "metadata": {},
   "source": [
    "#### Exercise\n",
    "Use a `dict` comprehension to create a dictionary of pairs of `x: x**2` pairs where the keys `x` are all numbers between $5$ and $500$ which are divisible by $7$ but not by $5$."
   ]
  },
  {
   "cell_type": "code",
   "execution_count": null,
   "metadata": {},
   "outputs": [],
   "source": []
  },
  {
   "cell_type": "markdown",
   "metadata": {},
   "source": [
    "#### Exercise\n",
    "Create a `set` with all prime numbers between $5$ and $500$ (included). Show the the cut set (intersection) between this set and the set of keys from the previous exercise contains only one number. Which number is that?"
   ]
  },
  {
   "cell_type": "code",
   "execution_count": null,
   "metadata": {},
   "outputs": [],
   "source": []
  }
 ],
 "metadata": {
  "kernelspec": {
   "display_name": "Python 3",
   "language": "python",
   "name": "python3"
  },
  "language_info": {
   "codemirror_mode": {
    "name": "ipython",
    "version": 3
   },
   "file_extension": ".py",
   "mimetype": "text/x-python",
   "name": "python",
   "nbconvert_exporter": "python",
   "pygments_lexer": "ipython3",
   "version": "3.6.4"
  }
 },
 "nbformat": 4,
 "nbformat_minor": 2
}
