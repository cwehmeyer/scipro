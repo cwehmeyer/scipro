{
 "cells": [
  {
   "cell_type": "markdown",
   "metadata": {},
   "source": [
    "# D1 - 03 - Mini Projects (Solution)\n",
    "\n",
    "## Content\n",
    "- Scalar product of two lists/tuples\n",
    "\n",
    "## Remember jupyter notebooks\n",
    "- To run the currently highlighted cell, hold <kbd>&#x21E7; Shift</kbd> and press <kbd>&#x23ce; Enter</kbd>.\n",
    "- To get help for a specific function, place the cursor within the function's brackets, hold <kbd>&#x21E7; Shift</kbd>, and press <kbd>&#x21E5; Tab</kbd>.\n",
    "\n",
    "## Scalar product\n",
    "Implement a function\n",
    "\n",
    "```Python\n",
    "def scalar_product(a, b):\n",
    "    pass\n",
    "```\n",
    "\n",
    "which implements the scalar product\n",
    "$$\\left\\langle \\mathbf{a},\\mathbf{b} \\right\\rangle = \\sum\\limits_{n=0}^{N-1} a_n b_n$$\n",
    "where $N$ is the number of elements in each $\\mathbf{a}$ and $\\mathbf{b}$. Both variables `a` and `b` can be `list`s or `tuple`s, and their elements should be numerical (`float` or `int`).\n",
    "\n",
    "**Bonus**: the function should not return a numerical result if both variables have different lengths or contain non-numerical elements."
   ]
  },
  {
   "cell_type": "code",
   "execution_count": 1,
   "metadata": {},
   "outputs": [],
   "source": [
    "def scalar_product(a, b):\n",
    "    return sum(x * y for x, y in zip(a, b))"
   ]
  },
  {
   "cell_type": "code",
   "execution_count": 2,
   "metadata": {},
   "outputs": [],
   "source": [
    "assert scalar_product([0] * 100, [1] * 100) == 0\n",
    "assert scalar_product([1] * 100, [1, -1] * 50) == 0\n",
    "assert scalar_product([1] * 100, range(100)) == 99 * 50"
   ]
  },
  {
   "cell_type": "markdown",
   "metadata": {},
   "source": [
    "## Arithmetic mean\n",
    "Implement a function\n",
    "```Python\n",
    "def mean(a):\n",
    "    pass\n",
    "```\n",
    "which computes the arithmetic mean of a sequence:\n",
    "$$\\bar{a} = \\frac{\\sum_{n=0}^{N-1} a_n}{N}$$\n",
    "where $N$ is the number of elements $a_0,\\dots,a_{N-1}$. The parameter `a` may be any type of `iterable` with only numerical elements.\n",
    "\n",
    "**Bonus**: for a sequence of length 0, e.g., an empty list, the function should return 0."
   ]
  },
  {
   "cell_type": "code",
   "execution_count": 3,
   "metadata": {},
   "outputs": [],
   "source": [
    "def mean(a):\n",
    "    if len(a) == 0:\n",
    "        return 0\n",
    "    return sum(a) / len(a)"
   ]
  },
  {
   "cell_type": "code",
   "execution_count": 4,
   "metadata": {},
   "outputs": [],
   "source": [
    "assert mean(range(100)) == 99 * 0.5\n",
    "assert mean([]) == 0\n",
    "assert mean([1] * 1000) == 1"
   ]
  },
  {
   "cell_type": "markdown",
   "metadata": {},
   "source": [
    "## Linear regression\n",
    "Implement a function\n",
    "```Python\n",
    "def linear_regression(x, y):\n",
    "    slope = None\n",
    "    const = None\n",
    "    return slope, const\n",
    "```\n",
    "which performs a simple linear regression\n",
    "$$\\begin{eqnarray*}\n",
    "\\textrm{slope} & = & \\frac{\\sum_{n=0}^{N-1} \\left( x_n - \\bar{x} \\middle) \\middle( y_n - \\bar{y} \\right)}{\\sum_{n=0}^{N-1} \\left( x_n - \\bar{x} \\right)^2} \\\\\n",
    "\\textrm{const} & = & \\bar{y} - \\textrm{slope } \\bar{x}\n",
    "\\end{eqnarray*}$$\n",
    "\n",
    "for value pairs $(x_0, y_0),\\dots,(x_{N-1},y_{N-1})$. The parameters `x` and `y` may be any type of `iterable` with only numerical elements; both must have the same length."
   ]
  },
  {
   "cell_type": "code",
   "execution_count": 5,
   "metadata": {},
   "outputs": [],
   "source": [
    "def linear_regression(x_values, y_values):\n",
    "    x_mean = mean(x_values)\n",
    "    y_mean = mean(y_values)\n",
    "    x_gen = (x - x_mean for x in x_values)\n",
    "    y_gen = (y - y_mean for y in y_values)\n",
    "    numerator = sum(x * y for x, y in zip(x_gen, y_gen))\n",
    "    denominator = sum((x - x_mean)**2 for x in x_values)\n",
    "    slope = numerator / denominator\n",
    "    const = y_mean - slope * x_mean\n",
    "    return slope, const"
   ]
  },
  {
   "cell_type": "code",
   "execution_count": 6,
   "metadata": {},
   "outputs": [],
   "source": [
    "x = [10, 14, 16, 15, 16, 20]\n",
    "y = [ 1,  3,  5,  6,  5, 11]\n",
    "slope, const = linear_regression(x, y)\n",
    "assert 0.97 < slope < 0.99\n",
    "assert -9.72 < const < -9.70"
   ]
  },
  {
   "cell_type": "markdown",
   "metadata": {},
   "source": [
    "## Numerical differentiation\n",
    "Implement a function\n",
    "```Python\n",
    "def differentiate(func, x, dx):\n",
    "    pass\n",
    "```\n",
    "where `func` is a reference to some function `f(x)`, `x` is the position where `func` shall be differentiated, and `dx` is the denominator of the differential quotient:\n",
    "$$f^\\prime(x) \\approx \\frac{f(x + \\frac{1}{2} \\text{d}x) - f(x - \\frac{1}{2} \\text{d}x)}{\\text{d}x}.$$"
   ]
  },
  {
   "cell_type": "code",
   "execution_count": 7,
   "metadata": {},
   "outputs": [],
   "source": [
    "def differentiate(func, x, dx):\n",
    "    dy = func(x + 0.5 * dx) - func(x - 0.5 * dx)\n",
    "    return dy / dx"
   ]
  },
  {
   "cell_type": "code",
   "execution_count": 8,
   "metadata": {},
   "outputs": [],
   "source": [
    "def f(x):\n",
    "    return x**2 + 1\n",
    "\n",
    "assert -0.1 < differentiate(f, 0, 0.01) < 0.1\n",
    "assert 1.9 < differentiate(f, 1, 0.01) < 2.1\n",
    "assert 3.9 < differentiate(f, 2, 0.01) < 4.1"
   ]
  },
  {
   "cell_type": "markdown",
   "metadata": {},
   "source": [
    "## Taylor Series Expansion\n",
    "\n",
    "The Taylor series for sin(x) is:\n",
    "\n",
    "$$\\sin(x)=\\sum_{k=0}^\\infty \\frac{(-1)^k x^{1+2 k}}{(1+2 k)!}$$\n",
    "\n",
    "Implement a function\n",
    "\n",
    "```Python\n",
    "def taylor_sin(x, n):\n",
    "    pass\n",
    "```\n",
    "\n",
    "Where `x` is the position where the sin should be evaluated, and `n` is the degree of the approximating polynomial. It would be helpful to implement a factorial function that returns the factorial of a given integer n."
   ]
  },
  {
   "cell_type": "code",
   "execution_count": 9,
   "metadata": {},
   "outputs": [],
   "source": [
    "def factorial(n):\n",
    "    if n < 0 or not isinstance(n, int):\n",
    "        return 0\n",
    "    if n == 1:\n",
    "        return n\n",
    "    else:\n",
    "        return n * factorial(n - 1)\n",
    "    \n",
    "def taylor_sin(x, n):\n",
    "    sin = sum((-1)**k * x**(1 + 2 * k) / factorial(1 + 2 * k) for k in range(n))\n",
    "    return sin"
   ]
  },
  {
   "cell_type": "code",
   "execution_count": 10,
   "metadata": {},
   "outputs": [],
   "source": [
    "from math import pi\n",
    "\n",
    "order = 13\n",
    "assert -1e-6 < taylor_sin(0, order)     - 0 < 1e-6\n",
    "assert -1e-6 < taylor_sin(pi/2, order)  - 1 < 1e-6\n",
    "assert -1e-6 < taylor_sin(pi, order)    - 0 < 1e-6\n",
    "assert -1e-6 < taylor_sin(-pi/2, order) + 1 < 1e-6\n",
    "assert -1e-6 < taylor_sin(2*pi, order)  - 0 < 1e-6"
   ]
  },
  {
   "cell_type": "code",
   "execution_count": null,
   "metadata": {},
   "outputs": [],
   "source": []
  }
 ],
 "metadata": {
  "kernelspec": {
   "display_name": "Python 3",
   "language": "python",
   "name": "python3"
  },
  "language_info": {
   "codemirror_mode": {
    "name": "ipython",
    "version": 3
   },
   "file_extension": ".py",
   "mimetype": "text/x-python",
   "name": "python",
   "nbconvert_exporter": "python",
   "pygments_lexer": "ipython3",
   "version": "3.6.4"
  }
 },
 "nbformat": 4,
 "nbformat_minor": 2
}
