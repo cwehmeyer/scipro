{
 "cells": [
  {
   "cell_type": "markdown",
   "metadata": {},
   "source": [
    "# D3 - 01 - Exceptions, distributions, models\n",
    "\n",
    "## Content\n",
    "- How does Python handle exceptions?\n",
    "- Sampling distributions with `numpy.random`\n",
    "- Visualising distributions with `seaborn` and `pandas`\n",
    "- Fitting polynomial models with `numpy.polyfit`\n",
    "- A simple approach to numerical quadrature\n",
    "\n",
    "## Prequisites\n",
    "\n",
    "```bash\n",
    "conda install seaborn pandas\n",
    "```\n",
    "\n",
    "## Remember jupyter notebooks\n",
    "- To run the currently highlighted cell, hold <kbd>&#x21E7; Shift</kbd> and press <kbd>&#x23ce; Enter</kbd>.\n",
    "- To get help for a specific function, place the cursor within the function's brackets, hold <kbd>&#x21E7; Shift</kbd>, and press <kbd>&#x21E5; Tab</kbd>.\n",
    "\n",
    "## A notebook \"preamble\"\n",
    "The first code block prepares our notebook by specifying how to render plots and importing the required packages."
   ]
  },
  {
   "cell_type": "code",
   "execution_count": null,
   "metadata": {},
   "outputs": [],
   "source": [
    "%matplotlib inline\n",
    "import matplotlib.pyplot as plt\n",
    "import seaborn as sns\n",
    "import pandas as pd\n",
    "import numpy as np"
   ]
  },
  {
   "cell_type": "markdown",
   "metadata": {},
   "source": [
    "## Exceptions\n",
    "When Python encounters a **problem**, an `exception` is `raise`d:"
   ]
  },
  {
   "cell_type": "code",
   "execution_count": null,
   "metadata": {},
   "outputs": [],
   "source": [
    "assert False, 'you shall not pass'\n",
    "\n",
    "print('goal reached?')"
   ]
  },
  {
   "cell_type": "markdown",
   "metadata": {},
   "source": [
    "These `exception`s can be caught and dealt with:"
   ]
  },
  {
   "cell_type": "code",
   "execution_count": null,
   "metadata": {},
   "outputs": [],
   "source": [
    "try:\n",
    "    assert False, 'you shall not pass'\n",
    "except:\n",
    "    pass\n",
    "\n",
    "print('goal reached?')"
   ]
  },
  {
   "cell_type": "code",
   "execution_count": null,
   "metadata": {},
   "outputs": [],
   "source": [
    "try:\n",
    "    assert False, 'you shall not pass'\n",
    "except Exception as e:\n",
    "    print('Exception message:', e)\n",
    "\n",
    "print('goal reached?')"
   ]
  },
  {
   "cell_type": "markdown",
   "metadata": {},
   "source": [
    "Python knows many different types of exceptions for specific situations:"
   ]
  },
  {
   "cell_type": "code",
   "execution_count": null,
   "metadata": {},
   "outputs": [],
   "source": [
    "try:\n",
    "    assert False, 'you shall not pass'\n",
    "except ValueError:\n",
    "    print('This catches not')\n",
    "except AssertionError:\n",
    "    print('But this does')"
   ]
  },
  {
   "cell_type": "code",
   "execution_count": null,
   "metadata": {},
   "outputs": [],
   "source": [
    "try:\n",
    "    assert False, 'you shall not pass'\n",
    "except Exception as e:\n",
    "    print('Exception message:', e)\n",
    "\n",
    "print('goal reached!')"
   ]
  },
  {
   "cell_type": "markdown",
   "metadata": {},
   "source": [
    "The `finally` command allows to clean up:"
   ]
  },
  {
   "cell_type": "code",
   "execution_count": null,
   "metadata": {},
   "outputs": [],
   "source": [
    "try:\n",
    "    assert False, 'you shall not pass'\n",
    "except ValueError as e:\n",
    "    print('Exception message:', e)\n",
    "finally:\n",
    "    print('This will still run')\n",
    "\n",
    "print('goal reached?')"
   ]
  },
  {
   "cell_type": "code",
   "execution_count": null,
   "metadata": {},
   "outputs": [],
   "source": [
    "def func(parameter):\n",
    "    try:\n",
    "        assert parameter, 'parameter is False'\n",
    "    except AssertionError as e:\n",
    "        print(e)\n",
    "        return False\n",
    "    finally:\n",
    "        print('This WILL run...')\n",
    "    return True\n",
    "\n",
    "func(True)"
   ]
  },
  {
   "cell_type": "code",
   "execution_count": null,
   "metadata": {},
   "outputs": [],
   "source": [
    "func(False)"
   ]
  },
  {
   "cell_type": "markdown",
   "metadata": {},
   "source": [
    "**Example**: catching an **expected** `exeption` to save an `if` clause:"
   ]
  },
  {
   "cell_type": "code",
   "execution_count": null,
   "metadata": {},
   "outputs": [],
   "source": [
    "def func(parameter):\n",
    "    print(parameter[0])\n",
    "\n",
    "func(None)"
   ]
  },
  {
   "cell_type": "code",
   "execution_count": null,
   "metadata": {},
   "outputs": [],
   "source": [
    "def func(parameter):\n",
    "    try:\n",
    "        print(parameter[0])\n",
    "    except TypeError:\n",
    "        print(parameter)\n",
    "\n",
    "func(None)"
   ]
  },
  {
   "cell_type": "markdown",
   "metadata": {},
   "source": [
    "This is how you `raise` and `exception` on your own:"
   ]
  },
  {
   "cell_type": "code",
   "execution_count": null,
   "metadata": {},
   "outputs": [],
   "source": [
    "def func(parameter):\n",
    "    if parameter is None:\n",
    "        raise ValueError('I am not dealing with None!')\n",
    "    print(parameter)\n",
    "\n",
    "func(None)"
   ]
  },
  {
   "cell_type": "markdown",
   "metadata": {},
   "source": [
    "**Exercise**: implement `scalar_product(a, b)` such that a `ValueError` is thrown if `len(a) != len(b)`"
   ]
  },
  {
   "cell_type": "code",
   "execution_count": null,
   "metadata": {},
   "outputs": [],
   "source": []
  },
  {
   "cell_type": "markdown",
   "metadata": {},
   "source": [
    "**Exercise**: modify the `linear_regression(x_values, y_values)` function below such that a `ValueError` from `scalar_product(a, b)` can be caught; the function should return `None, None` in this case."
   ]
  },
  {
   "cell_type": "code",
   "execution_count": null,
   "metadata": {},
   "outputs": [],
   "source": [
    "def linear_regression(x_values, y_values):\n",
    "    x_mean, y_mean = np.mean(x_values), np.mean(y_values)\n",
    "    x = np.asarray(x_values) - x_mean\n",
    "    y = np.asarray(y_values) - y_mean\n",
    "    slope = scalar_product(x, y) / np.sum(x**2)\n",
    "    const = y_mean - slope * x_mean\n",
    "    return slope, const\n",
    "\n",
    "x = [10, 14, 16, 15, 16, 20]\n",
    "y = [ 1,  3,  5,  6,  5, 11]\n",
    "linear_regression(x, y[:-1])"
   ]
  },
  {
   "cell_type": "markdown",
   "metadata": {},
   "source": [
    "Remember, `exception`s are designed for specific purposes:"
   ]
  },
  {
   "cell_type": "code",
   "execution_count": null,
   "metadata": {},
   "outputs": [],
   "source": [
    "a = list(range(5))\n",
    "print(a[100])"
   ]
  },
  {
   "cell_type": "code",
   "execution_count": null,
   "metadata": {},
   "outputs": [],
   "source": [
    "try:\n",
    "    print(a[100])\n",
    "except ValueError:\n",
    "    print('ValueError')\n",
    "except AssertionError:\n",
    "    print('AssertionError')\n",
    "except IndexError:\n",
    "    print('IndexError')"
   ]
  },
  {
   "cell_type": "code",
   "execution_count": null,
   "metadata": {},
   "outputs": [],
   "source": [
    "try:\n",
    "    print(a[100])\n",
    "except Exception:\n",
    "    print('Exception')\n",
    "except IndexError:\n",
    "    print('IndexError')"
   ]
  },
  {
   "cell_type": "markdown",
   "metadata": {},
   "source": [
    "Let's write our own (subclass):"
   ]
  },
  {
   "cell_type": "code",
   "execution_count": null,
   "metadata": {},
   "outputs": [],
   "source": [
    "class FancyIndexError(IndexError):\n",
    "    def __init__(self, message=None):\n",
    "        super(FancyIndexError, self).__init__(message)\n",
    "\n",
    "try:\n",
    "    raise FancyIndexError()\n",
    "except IndexError:\n",
    "    print('normal')\n",
    "except FancyIndexError:\n",
    "    print('fancy')"
   ]
  },
  {
   "cell_type": "code",
   "execution_count": null,
   "metadata": {},
   "outputs": [],
   "source": [
    "try:\n",
    "    raise IndexError()\n",
    "except FancyIndexError:\n",
    "    print('fancy')\n",
    "except IndexError:\n",
    "    print('normal')"
   ]
  },
  {
   "cell_type": "markdown",
   "metadata": {},
   "source": [
    "## Distributions\n",
    "Let's create some simple distributions with `numpy.random` and visualise them. `seaborn` is a frontend for `matplotlib` and simplifies **standard situations**:"
   ]
  },
  {
   "cell_type": "code",
   "execution_count": null,
   "metadata": {},
   "outputs": [],
   "source": [
    "a = np.random.rand(10000)\n",
    "\n",
    "sns.distplot(a, hist=False, kde_kws=dict(shade=True))\n",
    "\n",
    "print(np.mean(a), np.std(a))"
   ]
  },
  {
   "cell_type": "code",
   "execution_count": null,
   "metadata": {},
   "outputs": [],
   "source": [
    "a = np.random.randn(10000)\n",
    "\n",
    "sns.distplot(a, hist=False, kde_kws=dict(shade=True))\n",
    "\n",
    "print(np.mean(a), np.std(a))"
   ]
  },
  {
   "cell_type": "code",
   "execution_count": null,
   "metadata": {},
   "outputs": [],
   "source": [
    "a = np.random.randn(10000) * 15 + 100\n",
    "\n",
    "sns.distplot(a, hist=False, kde_kws=dict(shade=True))\n",
    "\n",
    "print(np.mean(a), np.std(a))"
   ]
  },
  {
   "cell_type": "code",
   "execution_count": null,
   "metadata": {},
   "outputs": [],
   "source": [
    "for k in range(2, 6):\n",
    "    sns.distplot(\n",
    "        np.random.randn(10**k),\n",
    "        hist=False,\n",
    "        label='10^%d' % k)"
   ]
  },
  {
   "cell_type": "markdown",
   "metadata": {},
   "source": [
    "We can also create/visualise two-dimensional distributions:"
   ]
  },
  {
   "cell_type": "code",
   "execution_count": null,
   "metadata": {},
   "outputs": [],
   "source": [
    "x, y = np.random.rand(2, 500)\n",
    "sns.kdeplot(x, y)"
   ]
  },
  {
   "cell_type": "code",
   "execution_count": null,
   "metadata": {},
   "outputs": [],
   "source": [
    "x, y = np.random.randn(2, 500)\n",
    "sns.kdeplot(x, y)"
   ]
  },
  {
   "cell_type": "code",
   "execution_count": null,
   "metadata": {},
   "outputs": [],
   "source": [
    "state = np.random.choice(2, 500)\n",
    "mean = np.asarray([[0, 0], [1, 2]])\n",
    "x, y = np.random.randn(2, state.size) * 0.1 + mean[state].T\n",
    "sns.kdeplot(x, y)"
   ]
  },
  {
   "cell_type": "markdown",
   "metadata": {},
   "source": [
    "The `seaborn.jointplot()` function shows you the joint distribution as well as the marginals:"
   ]
  },
  {
   "cell_type": "code",
   "execution_count": null,
   "metadata": {},
   "outputs": [],
   "source": [
    "sns.jointplot(x, y, kind='kde')"
   ]
  },
  {
   "cell_type": "code",
   "execution_count": null,
   "metadata": {},
   "outputs": [],
   "source": [
    "state = np.random.choice(2, 500)\n",
    "mean = np.asarray([[0, 0], [0, 3]])\n",
    "x, y = np.random.randn(2, state.size) * 0.1 + mean[state].T\n",
    "x *= 50\n",
    "y += np.sqrt(np.abs(x))\n",
    "sns.kdeplot(x, y)"
   ]
  },
  {
   "cell_type": "code",
   "execution_count": null,
   "metadata": {},
   "outputs": [],
   "source": [
    "sns.jointplot(x, y, kind='kde')"
   ]
  },
  {
   "cell_type": "markdown",
   "metadata": {},
   "source": [
    "## Plotting with `seaborn` and `pandas`\n",
    "Now we have a look at `pandas`: this tool helps to organise and clean data and `seaborn` depends on this package for its internal data organisition.\n",
    "\n",
    "Using `seaborn` + `pandas` we can make plots like this:"
   ]
  },
  {
   "cell_type": "code",
   "execution_count": null,
   "metadata": {},
   "outputs": [],
   "source": [
    "data = pd.DataFrame(dict(x=[10, 14, 16, 15, 16, 20], y=[ 1,  3,  5,  6,  5, 11]))\n",
    "sns.lmplot('x', 'y', data)"
   ]
  },
  {
   "cell_type": "markdown",
   "metadata": {},
   "source": [
    "We will most likely only use the `panas.DataFrame` class to store data:"
   ]
  },
  {
   "cell_type": "code",
   "execution_count": null,
   "metadata": {},
   "outputs": [],
   "source": [
    "x = np.linspace(-2, 2, 100)\n",
    "y = x + np.random.randn(x.size) * 0.5\n",
    "\n",
    "data = pd.DataFrame(dict(x=x, y=y))\n",
    "print(data)"
   ]
  },
  {
   "cell_type": "markdown",
   "metadata": {},
   "source": [
    "If we supply a `pandas.DataFrame` to `seaborn`, plotting becomes simple, e.g., this is a linear regression:"
   ]
  },
  {
   "cell_type": "code",
   "execution_count": null,
   "metadata": {},
   "outputs": [],
   "source": [
    "sns.lmplot('x', 'y', data)"
   ]
  },
  {
   "cell_type": "markdown",
   "metadata": {},
   "source": [
    "And this is a visualisation of joint and marginal distributions for a three dimensional dataset:"
   ]
  },
  {
   "cell_type": "code",
   "execution_count": null,
   "metadata": {},
   "outputs": [],
   "source": [
    "x = np.random.rand(10000) * 5\n",
    "y = np.random.randn(10000)\n",
    "z = np.random.exponential(size=10000)\n",
    "sns.pairplot(pd.DataFrame(dict(x=x, y=y, z=z)))"
   ]
  },
  {
   "cell_type": "markdown",
   "metadata": {},
   "source": [
    "## Polynomial regression with `numpy`"
   ]
  },
  {
   "cell_type": "code",
   "execution_count": null,
   "metadata": {},
   "outputs": [],
   "source": [
    "x = np.random.rand(1000) * 6 - 3\n",
    "y = x**2 + np.random.randn(x.size)\n",
    "plt.scatter(x, y, s=0.1)"
   ]
  },
  {
   "cell_type": "markdown",
   "metadata": {},
   "source": [
    "We can do a polynomial regression and then create a polynomial function for further analysis:"
   ]
  },
  {
   "cell_type": "code",
   "execution_count": null,
   "metadata": {},
   "outputs": [],
   "source": [
    "z = np.polyfit(x, y, 2)\n",
    "p = np.poly1d(z)\n",
    "plt.scatter(x, p(x), s=1)"
   ]
  },
  {
   "cell_type": "markdown",
   "metadata": {},
   "source": [
    "For example to work ion a different grid:"
   ]
  },
  {
   "cell_type": "code",
   "execution_count": null,
   "metadata": {},
   "outputs": [],
   "source": [
    "x2 = np.linspace(x.min(), x.max(), 100)\n",
    "plt.plot(x2, p(x2), linewidth=2)\n",
    "plt.scatter(x, y, s=1)"
   ]
  },
  {
   "cell_type": "markdown",
   "metadata": {},
   "source": [
    "**Exercise**: perform a polynomial regression for the following dataset and visualize your model. What is a good degree choice?"
   ]
  },
  {
   "cell_type": "code",
   "execution_count": null,
   "metadata": {},
   "outputs": [],
   "source": [
    "x = np.random.rand(1000) * 3 - 1\n",
    "c = [2, -3, 0, 1]\n",
    "y = np.poly1d(c)(x) + np.random.randn(x.size) * 0.5\n",
    "\n",
    "plt.scatter(x, y, s=1)"
   ]
  },
  {
   "cell_type": "code",
   "execution_count": null,
   "metadata": {},
   "outputs": [],
   "source": []
  },
  {
   "cell_type": "markdown",
   "metadata": {},
   "source": [
    "## Numerical quadrature\n",
    "We already have the means to differentiate a function. With a quadrature method, e.g., the trapezoidal rule\n",
    "$$\\int\\limits_a^b f(x) \\text{d}x \\approx \\sum\\limits_{n=0}^{N-1} \\frac{f(x_n) + f(x_{n+1})}{2} (x_{n+1}-x_n),$$\n",
    "with\n",
    "$$a = x_0 < x_1 < \\cdots < x_N = b,$$\n",
    "we can approximate the integral of a function:"
   ]
  },
  {
   "cell_type": "code",
   "execution_count": null,
   "metadata": {},
   "outputs": [],
   "source": [
    "x = np.linspace(-np.pi, np.pi, 100)\n",
    "y = np.sin(x)\n",
    "\n",
    "plt.plot(x, y)\n",
    "plt.fill_between(x, np.minimum(y, 0), np.maximum(y, 0), alpha=0.3)"
   ]
  },
  {
   "cell_type": "markdown",
   "metadata": {},
   "source": [
    "**Exercise**: perform a trapezoidal rule calculation of the above dataset:"
   ]
  },
  {
   "cell_type": "code",
   "execution_count": null,
   "metadata": {},
   "outputs": [],
   "source": []
  },
  {
   "cell_type": "markdown",
   "metadata": {},
   "source": [
    "**Exercise**: perform the calculation for the dataset in the next cell:"
   ]
  },
  {
   "cell_type": "code",
   "execution_count": null,
   "metadata": {},
   "outputs": [],
   "source": [
    "x = np.linspace(0, 1, 100)\n",
    "y = x\n",
    "\n",
    "plt.plot(x, y)\n",
    "plt.fill_between(x, np.minimum(y, 0), np.maximum(y, 0), alpha=0.3)\n",
    "\n"
   ]
  },
  {
   "cell_type": "markdown",
   "metadata": {},
   "source": [
    "**Exercise**: implement a function\n",
    "```Python\n",
    "def integrate(func, a, b):\n",
    "    pass\n",
    "```\n",
    "to integrate a given function `func` using the trapezoidal rule and test this function with at least two different mathematical functions which you have to implement yourself."
   ]
  },
  {
   "cell_type": "code",
   "execution_count": null,
   "metadata": {},
   "outputs": [],
   "source": []
  },
  {
   "cell_type": "markdown",
   "metadata": {},
   "source": [
    "Let's put everything together!\n",
    "\n",
    "**Exercise**: perform a polynomial regression on the data given below and integrate the resulting model over the entire range for which you have samples:"
   ]
  },
  {
   "cell_type": "code",
   "execution_count": null,
   "metadata": {},
   "outputs": [],
   "source": [
    "x = np.random.rand(1000) * 6 - 3\n",
    "y = x**2 - 2 + np.random.randn(x.size)\n",
    "plt.scatter(x, y, s=0.1)\n",
    "\n",
    "\n"
   ]
  },
  {
   "cell_type": "code",
   "execution_count": null,
   "metadata": {},
   "outputs": [],
   "source": []
  }
 ],
 "metadata": {
  "kernelspec": {
   "display_name": "Python 3",
   "language": "python",
   "name": "python3"
  },
  "language_info": {
   "codemirror_mode": {
    "name": "ipython",
    "version": 3
   },
   "file_extension": ".py",
   "mimetype": "text/x-python",
   "name": "python",
   "nbconvert_exporter": "python",
   "pygments_lexer": "ipython3",
   "version": "3.6.4"
  }
 },
 "nbformat": 4,
 "nbformat_minor": 2
}
