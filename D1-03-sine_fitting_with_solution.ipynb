{
 "cells": [
  {
   "cell_type": "markdown",
   "metadata": {},
   "source": [
    "#### Exercise\n",
    "\n",
    "The Taylor series for sin(x) is:\n",
    "\n",
    "$$\\sin(x)=\\sum_{k=0}^\\infty \\frac{(-1)^k x^{1+2 k}}{(1+2 k)!}$$\n",
    "\n",
    "Implement this series in python without using the math package. It would be helpful to implement a factorial function that returns the factorial of a given integer n.\n",
    "\n",
    "You can use pi from the math module to check the precision of your function"
   ]
  },
  {
   "cell_type": "code",
   "execution_count": null,
   "metadata": {},
   "outputs": [],
   "source": [
    "from math import pi\n",
    "\n",
    "def factorial(n):\n",
    "    assert(n > 0 and isinstance(n, int))\n",
    "    if n == 1:\n",
    "        return n\n",
    "    else:\n",
    "        return n*factorial(n-1)\n",
    "    \n",
    "def custom_sin(x,n):\n",
    "    sin = 0\n",
    "    for i in range(n):\n",
    "        sign = (-1)**i\n",
    "        sin += sign * (x**(1+2*i))/factorial(1+2*i)\n",
    "    return sin\n",
    "\n",
    "\n",
    "custom_sin(pi/2, 5)"
   ]
  }
 ],
 "metadata": {
  "kernelspec": {
   "display_name": "Python 3",
   "language": "python",
   "name": "python3"
  },
  "language_info": {
   "codemirror_mode": {
    "name": "ipython",
    "version": 3
   },
   "file_extension": ".py",
   "mimetype": "text/x-python",
   "name": "python",
   "nbconvert_exporter": "python",
   "pygments_lexer": "ipython3",
   "version": "3.6.4"
  }
 },
 "nbformat": 4,
 "nbformat_minor": 2
}
