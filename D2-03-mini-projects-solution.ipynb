{
 "cells": [
  {
   "cell_type": "code",
   "execution_count": 1,
   "metadata": {},
   "outputs": [],
   "source": [
    "import numpy as np\n",
    "import matplotlib.pyplot as plt"
   ]
  },
  {
   "cell_type": "markdown",
   "metadata": {},
   "source": [
    "# D2 - 03 - Mini Projects\n",
    "\n",
    "## Content\n",
    "- \n",
    "\n",
    "## Remember jupyter notebooks\n",
    "- To run the currently highlighted cell, hold <kbd>&#x21E7; Shift</kbd> and press <kbd>&#x23ce; Enter</kbd>.\n",
    "- To get help for a specific function, place the cursor within the function's brackets, hold <kbd>&#x21E7; Shift</kbd>, and press <kbd>&#x21E5; Tab</kbd>.\n",
    "\n",
    "## Linear problems\n",
    "We want to solve\n",
    "$$\\mathbf{A}\\mathbf{x}=\\mathbf{b}$$\n",
    "where $\\mathbf{A}\\in\\mathbb{R}^{N \\times N}$ and $\\mathbf{x},\\mathbf{b}\\in\\mathbb{R}^N$ using `numpy`.\n",
    "\n",
    "**Task**: create a matrix `A` and a matching vector `x` randomly, and compute the RHS `b` using the `np.dot(A, x)` function. Then, use `np.linalg.solve()` on `A` and `b` to recover `x_rec`. Use `np.linalg.norm()` to compute the distance between `x` and `x_rec`.\n",
    "\n",
    "**Hint**: look up the docstrings (<kbd>&#x21E7;</kbd>+<kbd>&#x21E5;</kbd> with cursor inside function brackets) to learn more about the functions you dont know."
   ]
  },
  {
   "cell_type": "code",
   "execution_count": 2,
   "metadata": {},
   "outputs": [],
   "source": [
    "A = np.random.standard_normal(size = [100,100])\n",
    "x = np.random.standard_normal(size = [100])\n",
    "\n",
    "b = A @ x\n",
    "\n",
    "x_rec = np.linalg.solve(A, b)\n",
    "\n",
    "assert np.linalg.norm(x - x_rec) < 1e-10"
   ]
  },
  {
   "cell_type": "markdown",
   "metadata": {},
   "source": [
    "## Monte Carlo sampling\n",
    "We can use a random sampling strategy to estimate the value of $\\pi$.\n",
    "\n",
    "Draw $N$ random tuples $(x,y)$ uniformly distributed inside the unit square $[0, 1]^2$. For each tuple compute the distance from $(0,0)$. Count the number tuples whose distance is smaller than $1$ ($N_\\textrm{hit}$) and divide this number by the total amount of tuples ($N$). You can approximate\n",
    "$$\\pi \\approx \\frac{4 N_\\textrm{hit}}{N}$$\n",
    "\n",
    "How does the MC-sampled estimate converge with $N$?"
   ]
  },
  {
   "cell_type": "code",
   "execution_count": 3,
   "metadata": {},
   "outputs": [
    {
     "data": {
      "image/png": "[encoded data removed]",
      "text/plain": [
       "<Figure size 432x288 with 1 Axes>"
      ]
     },
     "metadata": {},
     "output_type": "display_data"
    }
   ],
   "source": [
    "def estimate_pi(N):\n",
    "    a = np.random.rand(N, 2)\n",
    "    b = np.linalg.norm(a, axis = -1)\n",
    "    pi_estimate = np.sum(b < 1)/N*4\n",
    "    return pi_estimate\n",
    "\n",
    "datapoints = np.linspace(10, 10000, 100, dtype = int)\n",
    "pi_est_results = np.empty(100)\n",
    "\n",
    "for i, n in enumerate(datapoints):\n",
    "    pi_est_results[i] = estimate_pi(n)\n",
    "\n",
    "plt.semilogx(datapoints, np.abs(pi_est_results - np.pi))\n",
    "plt.show()"
   ]
  },
  {
   "cell_type": "code",
   "execution_count": null,
   "metadata": {},
   "outputs": [],
   "source": []
  }
 ],
 "metadata": {
  "kernelspec": {
   "display_name": "Python 3",
   "language": "python",
   "name": "python3"
  },
  "language_info": {
   "codemirror_mode": {
    "name": "ipython",
    "version": 3
   },
   "file_extension": ".py",
   "mimetype": "text/x-python",
   "name": "python",
   "nbconvert_exporter": "python",
   "pygments_lexer": "ipython3",
   "version": "3.6.4"
  }
 },
 "nbformat": 4,
 "nbformat_minor": 2
}
